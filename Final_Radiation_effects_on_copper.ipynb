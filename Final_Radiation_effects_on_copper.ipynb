{
  "nbformat": 4,
  "nbformat_minor": 0,
  "metadata": {
    "colab": {
      "provenance": []
    },
    "kernelspec": {
      "name": "python3",
      "display_name": "Python 3"
    },
    "language_info": {
      "name": "python"
    }
  },
  "cells": [
    {
      "cell_type": "code",
      "execution_count": 1,
      "metadata": {
        "colab": {
          "base_uri": "https://localhost:8080/"
        },
        "id": "M3P1LOmN2bhY",
        "outputId": "306c272d-feb5-4f37-d159-0b15824dbcaf"
      },
      "outputs": [
        {
          "output_type": "stream",
          "name": "stdout",
          "text": [
            "Collecting netCDF4\n",
            "  Downloading netCDF4-1.7.2-cp311-cp311-manylinux_2_17_x86_64.manylinux2014_x86_64.whl.metadata (1.8 kB)\n",
            "Collecting cftime (from netCDF4)\n",
            "  Downloading cftime-1.6.4.post1-cp311-cp311-manylinux_2_17_x86_64.manylinux2014_x86_64.whl.metadata (8.7 kB)\n",
            "Requirement already satisfied: certifi in /usr/local/lib/python3.11/dist-packages (from netCDF4) (2025.4.26)\n",
            "Requirement already satisfied: numpy in /usr/local/lib/python3.11/dist-packages (from netCDF4) (2.0.2)\n",
            "Downloading netCDF4-1.7.2-cp311-cp311-manylinux_2_17_x86_64.manylinux2014_x86_64.whl (9.3 MB)\n",
            "\u001b[2K   \u001b[90m━━━━━━━━━━━━━━━━━━━━━━━━━━━━━━━━━━━━━━━━\u001b[0m \u001b[32m9.3/9.3 MB\u001b[0m \u001b[31m22.4 MB/s\u001b[0m eta \u001b[36m0:00:00\u001b[0m\n",
            "\u001b[?25hDownloading cftime-1.6.4.post1-cp311-cp311-manylinux_2_17_x86_64.manylinux2014_x86_64.whl (1.4 MB)\n",
            "\u001b[2K   \u001b[90m━━━━━━━━━━━━━━━━━━━━━━━━━━━━━━━━━━━━━━━━\u001b[0m \u001b[32m1.4/1.4 MB\u001b[0m \u001b[31m42.9 MB/s\u001b[0m eta \u001b[36m0:00:00\u001b[0m\n",
            "\u001b[?25hInstalling collected packages: cftime, netCDF4\n",
            "Successfully installed cftime-1.6.4.post1 netCDF4-1.7.2\n",
            "Requirement already satisfied: requests in /usr/local/lib/python3.11/dist-packages (2.32.3)\n",
            "Requirement already satisfied: beautifulsoup4 in /usr/local/lib/python3.11/dist-packages (4.13.4)\n",
            "Requirement already satisfied: charset-normalizer<4,>=2 in /usr/local/lib/python3.11/dist-packages (from requests) (3.4.2)\n",
            "Requirement already satisfied: idna<4,>=2.5 in /usr/local/lib/python3.11/dist-packages (from requests) (3.10)\n",
            "Requirement already satisfied: urllib3<3,>=1.21.1 in /usr/local/lib/python3.11/dist-packages (from requests) (2.4.0)\n",
            "Requirement already satisfied: certifi>=2017.4.17 in /usr/local/lib/python3.11/dist-packages (from requests) (2025.4.26)\n",
            "Requirement already satisfied: soupsieve>1.2 in /usr/local/lib/python3.11/dist-packages (from beautifulsoup4) (2.7)\n",
            "Requirement already satisfied: typing-extensions>=4.0.0 in /usr/local/lib/python3.11/dist-packages (from beautifulsoup4) (4.13.2)\n",
            "Requirement already satisfied: scipy in /usr/local/lib/python3.11/dist-packages (1.15.3)\n",
            "Requirement already satisfied: numpy<2.5,>=1.23.5 in /usr/local/lib/python3.11/dist-packages (from scipy) (2.0.2)\n"
          ]
        }
      ],
      "source": [
        "!pip install netCDF4\n",
        "!pip install requests beautifulsoup4\n",
        "!pip install scipy"
      ]
    },
    {
      "cell_type": "markdown",
      "source": [
        "Download data"
      ],
      "metadata": {
        "id": "pFvPNdz3Eqx2"
      }
    },
    {
      "cell_type": "code",
      "source": [
        "import os\n",
        "import requests\n",
        "import numpy as np\n",
        "from bs4 import BeautifulSoup\n",
        "from concurrent.futures import ThreadPoolExecutor\n",
        "\n",
        "\n",
        "YEARS = range(2020, 2025)\n",
        "\n",
        "SAMPLE_DAYS_PER_MONTH = 31\n",
        "\n",
        "BASE_URL = \"https://data.ngdc.noaa.gov/platforms/solar-space-observing-satellites/goes/goes16/l1b/seis-l1b-sgps\"\n",
        "\n",
        "\n",
        "\n",
        "def create_year_folders():\n",
        "\n",
        "    for year in YEARS:\n",
        "        os.makedirs(f\"goes16_data/{year}\", exist_ok=True)\n",
        "\n",
        "def get_monthly_files(year, month):\n",
        "\n",
        "    url = f\"{BASE_URL}/{year}/{month:02d}/\"\n",
        "    try:\n",
        "        response = requests.get(url, timeout=10)\n",
        "        response.raise_for_status()\n",
        "        soup = BeautifulSoup(response.text, \"html.parser\")\n",
        "        return [link['href'] for link in soup.find_all(\"a\")\n",
        "               if link['href'].endswith('.nc') and 'ops_seis-l1b-sgps' in link['href']]\n",
        "    except Exception as e:\n",
        "        print(f\"Error fetching {year}-{month:02d}: {str(e)}\")\n",
        "        return []\n",
        "\n",
        "def download_file(year, month, day_file):\n",
        "\n",
        "    day = day_file[20:22]\n",
        "    url = f\"{BASE_URL}/{year}/{month:02d}/{day_file}\"\n",
        "    local_path = f\"goes16_data/{year}/{day_file}\"\n",
        "\n",
        "    if not os.path.exists(local_path):\n",
        "        try:\n",
        "            with requests.get(url, stream=True, timeout=15) as response:\n",
        "                response.raise_for_status()\n",
        "                with open(local_path, 'wb') as f:\n",
        "                    for chunk in response.iter_content(chunk_size=8192):\n",
        "                        f.write(chunk)\n",
        "            print(f\"Downloaded {year}/{month:02d}/{day_file}\")\n",
        "            return True\n",
        "        except Exception as e:\n",
        "            print(f\"Failed {year}/{month:02d}/{day_file}: {str(e)}\")\n",
        "            return False\n",
        "    return True\n",
        "\n",
        "def process_year_month(year, month):\n",
        "\n",
        "    files = get_monthly_files(year, month)\n",
        "    if not files:\n",
        "        return 0\n",
        "\n",
        "\n",
        "    sample_indices = np.linspace(0, len(files)-1, dtype=int)\n",
        "    sampled_files = [files[i] for i in sample_indices]\n",
        "\n",
        "\n",
        "    with ThreadPoolExecutor(max_workers=5) as executor:\n",
        "        results = list(executor.map(lambda f: download_file(year, month, f), sampled_files))\n",
        "\n",
        "    return sum(results)\n",
        "\n",
        "def main():\n",
        "    create_year_folders()\n",
        "    total_downloaded = 0\n",
        "\n",
        "    for year in YEARS:\n",
        "        for month in range(1, 13):\n",
        "            downloaded = process_year_month(year, month)\n",
        "            total_downloaded += downloaded\n",
        "\n",
        "    print(f\"\\nDownload complete {total_downloaded} files saved in year folders.\")\n",
        "\n",
        "if __name__ == \"__main__\":\n",
        "    main()"
      ],
      "metadata": {
        "id": "jV00mN3n3iby"
      },
      "execution_count": null,
      "outputs": []
    },
    {
      "cell_type": "markdown",
      "source": [
        "Find cumulative flux"
      ],
      "metadata": {
        "id": "n5sfyKYeEwLH"
      }
    },
    {
      "cell_type": "code",
      "source": [
        "from netCDF4 import Dataset\n",
        "import numpy as np\n",
        "from pathlib import Path\n",
        "from collections import defaultdict\n",
        "\n",
        "\n",
        "BASE_DIR = '/content/goes16_data/'\n",
        "YEARS = range(2020, 2025)\n",
        "\n",
        "\n",
        "total_fluence = {}\n",
        "\n",
        "first_file = None\n",
        "for yr in YEARS:\n",
        "    d = Path(BASE_DIR) / str(yr)\n",
        "    if d.exists():\n",
        "        files = sorted(d.glob('*.nc'))\n",
        "        if files:\n",
        "            first_file = files[0]\n",
        "            break\n",
        "if first_file is None:\n",
        "    raise RuntimeError(\"No netCDF files\")\n",
        "\n",
        "with Dataset(first_file, 'r') as nc:\n",
        "    for t in range(3):\n",
        "        var = nc[f'T{t+1}_DifferentialProtonFluxes']\n",
        "        _, _, nbin = var.shape\n",
        "        total_fluence[f'T{t+1}'] = np.zeros((2, nbin), dtype=np.float64)\n",
        "\n",
        "\n",
        "file_paths = []\n",
        "for year in YEARS:\n",
        "    d = Path(BASE_DIR) / str(year)\n",
        "    if d.exists():\n",
        "        file_paths.extend(sorted(d.glob('*.nc')))\n",
        "\n",
        "\n",
        "def accumulate_file(fp):\n",
        "  try:\n",
        "    with Dataset(fp, 'r') as nc:\n",
        "\n",
        "        for t in range(3):\n",
        "            tel = f'T{t+1}'\n",
        "            flux = nc[f'{tel}_DifferentialProtonFluxes'][:]  # shape (86400,2,nbin)\n",
        "\n",
        "            daily = np.ma.filled(flux, 0.0).sum(axis=0)  # shape (2,nbin)\n",
        "            total_fluence[tel] += daily\n",
        "  except Exception as e:\n",
        "          print(f\"Error processing file {fp}: {str(e)}\")\n",
        "\n",
        "for fp in file_paths:\n",
        "    accumulate_file(fp)\n",
        "\n",
        "print(total_fluence)"
      ],
      "metadata": {
        "id": "XuAaBsPV3j8p"
      },
      "execution_count": null,
      "outputs": []
    },
    {
      "cell_type": "markdown",
      "source": [
        "Format"
      ],
      "metadata": {
        "id": "m-DEdRB9E1JE"
      }
    },
    {
      "cell_type": "code",
      "source": [
        "import numpy as np\n",
        "\n",
        "for_all_files_binsum = [\n",
        "    [[], [], []],  #For -X\n",
        "    [[], [], []]   #For +X\n",
        "]\n",
        "\n",
        "telescope_mapping = {\n",
        "    'T1': 0,\n",
        "    'T2': 1,\n",
        "    'T3': 2\n",
        "}\n",
        "\n",
        "\n",
        "for telescope, data in total_fluence.items():\n",
        "    tel_index = telescope_mapping[telescope]\n",
        "    for direction in range(2):\n",
        "        for_all_files_binsum[direction][tel_index] = data[direction].tolist()\n",
        "\n",
        "\n",
        "print(for_all_files_binsum)\n"
      ],
      "metadata": {
        "id": "cZT2o39p3l6u"
      },
      "execution_count": null,
      "outputs": []
    },
    {
      "cell_type": "markdown",
      "source": [
        "Skip if you ran the Finding cumulative flux"
      ],
      "metadata": {
        "id": "o_L73RmBE4jT"
      }
    },
    {
      "cell_type": "code",
      "source": [
        "for_all_files_binsum = [[[6923950.129382193, 2399822.3035821915, 1370381.8431704268, 461830.7198556885, 214892.41605386138, 19879.96289345622], [2296.0594076365232, 530.0979111287743], [144.405482403934, 232.24412351101637, 90.46763387601823, 44.40717894304544, 27.040173853747547]], [[10354037.124269962, 3456736.156858146, 1267076.3191419393, 419728.33999849856, 72491.36225815117, 14285.513829886913], [1890.3972719777375, 368.96591744199395], [154.15224638115615, 248.65924776904285, 89.04301674291492, 61.55935924034566, 37.08134780917317]]]"
      ],
      "metadata": {
        "id": "ElJInkJx3pmS"
      },
      "execution_count": 35,
      "outputs": []
    },
    {
      "cell_type": "markdown",
      "source": [
        "Sum for x and +x directions"
      ],
      "metadata": {
        "id": "AKdJQ1OSFBL0"
      }
    },
    {
      "cell_type": "code",
      "source": [
        "# Sum x and x+\n",
        "summed_flux = [\n",
        "    [for_all_files_binsum[0][0][k] + for_all_files_binsum[1][0][k] for k in range(6)],  # T1\n",
        "    [for_all_files_binsum[0][1][k] + for_all_files_binsum[1][1][k] for k in range(2)],  # T2\n",
        "    [for_all_files_binsum[0][2][k] + for_all_files_binsum[1][2][k] for k in range(5)],  # T3\n",
        "]"
      ],
      "metadata": {
        "id": "F2tcftUL3p_F"
      },
      "execution_count": 36,
      "outputs": []
    },
    {
      "cell_type": "markdown",
      "source": [
        "Conver to Fluence"
      ],
      "metadata": {
        "id": "w9e7_NyFFF2L"
      }
    },
    {
      "cell_type": "code",
      "source": [
        "import numpy as np\n",
        "scaling_factor = 4 * np.pi * 1000\n",
        "energy_bins = [\n",
        "    [(1.0, 1.9), (1.9, 2.3), (2.3, 3.4), (3.4, 6.5), (6.5, 12.0), (12.0, 25.0)],\n",
        "    [(25.0, 40.0), (40.0, 80.0)],\n",
        "    [(83.0, 99.0), (99.0, 118.0), (118.0, 150.0), (150.0, 275.0), (275.0, 500.0)]\n",
        "]\n",
        "\n",
        "summed_fluence = []\n",
        "for flux_group, bin_group in zip(summed_flux, energy_bins):\n",
        "    group_fluence = []\n",
        "    for flux, (low, high) in zip(flux_group, bin_group):\n",
        "        width = high - low\n",
        "        fluence = flux * scaling_factor * width\n",
        "        group_fluence.append(fluence)\n",
        "    summed_fluence.append(group_fluence)"
      ],
      "metadata": {
        "id": "HQdUcgxf4GOK"
      },
      "execution_count": 37,
      "outputs": []
    },
    {
      "cell_type": "markdown",
      "source": [
        "Create input_spectrum"
      ],
      "metadata": {
        "id": "ArQ1_qJbFMB8"
      }
    },
    {
      "cell_type": "code",
      "source": [
        "gamma = 3\n",
        "spectrum = []\n",
        "energies = [[(1.0, 1.9), (1.9, 2.3), (2.3, 3.4), (3.4, 6.5), (6.5, 12.0), (12.0, 25.0)],\n",
        "            [(25.0, 40.0), (40.0, 80.0)],\n",
        "            [(83.0, 99.0), (99.0, 118.0), (118.0, 150.0), (150.0, 275.0), (275.0, 500.0)]]\n",
        "\n",
        "# (T1, T2, T3)\n",
        "for i in range(len(summed_fluence)):\n",
        "    for j in range(len(summed_fluence[i])):\n",
        "        e_low, e_high = energies[i][j]\n",
        "        total_fluence = summed_fluence[i][j]\n",
        "\n",
        "        # 10 logarithmic sub bins per energy band\n",
        "        sub_bins = np.logspace(np.log10(e_low), np.log10(e_high), num=11)\n",
        "        mid_points = np.sqrt(sub_bins[:-1] * sub_bins[1:])\n",
        "        bin_widths = sub_bins[1:] - sub_bins[:-1]\n",
        "\n",
        "        #  power-law weights\n",
        "        weights = mid_points ** -gamma\n",
        "        weights /= weights.sum()  # Normalize within band\n",
        "\n",
        "\n",
        "        for mp, w, bw in zip(mid_points, weights, bin_widths):\n",
        "            spectrum.append((mp, total_fluence * w, bw))\n",
        "\n",
        "# to PDF\n",
        "energies_list, counts, widths = zip(*spectrum)\n",
        "total_counts = sum(counts)\n",
        "pdf_values = [c/(total_counts * w) for c, w in zip(counts, widths)]\n",
        "\n",
        "with open('input_spectrum.txt', 'w') as f:\n",
        "    f.write(\"Energy (MeV)\\tPDF\\n\")\n",
        "    for e, pdf in sorted(zip(energies_list, pdf_values), key=lambda x: x[0]):\n",
        "        f.write(f\"{e:.6f}\\t{pdf:.6e}\\n\")\n",
        "\n",
        "# verif\n",
        "integral = sum(pdf * w for pdf, w in zip(pdf_values, widths))\n",
        "print(f\"PDF integral: {integral:.6f} (should be ≈1.0)\")\n",
        "print(f\"Energy range: {min(energies_list):.1f}-{max(energies_list):.1f} MeV\")\n",
        "print(f\"Number of bins: {len(energies_list)}\")\n"
      ],
      "metadata": {
        "colab": {
          "base_uri": "https://localhost:8080/"
        },
        "id": "WBmX8FUn3rfz",
        "outputId": "01a6557f-7d7e-4a40-a739-b1bfdad91443"
      },
      "execution_count": 38,
      "outputs": [
        {
          "output_type": "stream",
          "name": "stdout",
          "text": [
            "PDF integral: 1.000000 (should be ≈1.0)\n",
            "Energy range: 1.0-485.3 MeV\n",
            "Number of bins: 130\n"
          ]
        }
      ]
    },
    {
      "cell_type": "code",
      "source": [
        "SOLID_ANGLES = [4*np.pi,4*np.pi,4*np.pi]#[1.84, 1.84, 6.28]  # T1, T2, T3"
      ],
      "metadata": {
        "id": "Vk0G6ss94Oo7"
      },
      "execution_count": 39,
      "outputs": []
    },
    {
      "cell_type": "markdown",
      "source": [
        "Calculate Total fluence"
      ],
      "metadata": {
        "id": "21kimM-AFUj7"
      }
    },
    {
      "cell_type": "code",
      "source": [
        "total_fluence = 0.0\n",
        "\n",
        "for t in range(3):  # (T1, T2, T3)\n",
        "    for k in range(len(energy_bins[t])):  # energy bins\n",
        "        E_low, E_high = energy_bins[t][k]\n",
        "        bin_width_keV = (E_high - E_low) * 1000  # MeV to keV\n",
        "\n",
        "        # Fluence = Flux * Solid Angle * Energy Bin Width\n",
        "        fluence_bin = summed_flux[t][k] * SOLID_ANGLES[t] * bin_width_keV\n",
        "        total_fluence += fluence_bin\n",
        "\n",
        "print(f\"Total omnidirectional fluence (5 years): {total_fluence:.2e} protons/cm²\")"
      ],
      "metadata": {
        "colab": {
          "base_uri": "https://localhost:8080/"
        },
        "id": "6RCxF3tX5X-g",
        "outputId": "ec31292b-a939-4430-a428-1d00a38a68b6"
      },
      "execution_count": 40,
      "outputs": [
        {
          "output_type": "stream",
          "name": "stdout",
          "text": [
            "Total omnidirectional fluence (5 years): 3.23e+11 protons/cm²\n"
          ]
        }
      ]
    },
    {
      "cell_type": "code",
      "source": [
        "copper_L = 0.0001  # mm\n",
        "copper_W = 0.01   # mm\n",
        "\n",
        "world_L = 0.06  # mm\n",
        "world_W = 0.06  # mm\n",
        "\n",
        "copper_area = (copper_L * 0.1) * (copper_W * 0.1)  # cm2\n",
        "world_area = (world_L * 0.1) * (world_W * 0.1)     # cm2"
      ],
      "metadata": {
        "id": "6NiT8ocl5aPG"
      },
      "execution_count": 55,
      "outputs": []
    },
    {
      "cell_type": "markdown",
      "source": [
        "Protons to simulate"
      ],
      "metadata": {
        "id": "koKf2z-RFYOb"
      }
    },
    {
      "cell_type": "code",
      "source": [
        "protons_to_simulate = total_fluence * world_area*8 #40 years\n",
        "\n",
        "print(f\"\\nProtons to simulate: {protons_to_simulate}\")\n",
        "print(f\"Expected copper hits: {total_fluence * copper_area*8}\")"
      ],
      "metadata": {
        "colab": {
          "base_uri": "https://localhost:8080/"
        },
        "id": "zIT1RTic5e2p",
        "outputId": "d7d0a901-9dc8-441a-d4c5-dc6d28b0353a"
      },
      "execution_count": 56,
      "outputs": [
        {
          "output_type": "stream",
          "name": "stdout",
          "text": [
            "\n",
            "Protons to simulate: 93002931.81884167\n",
            "Expected copper hits: 25834.147727456017\n"
          ]
        }
      ]
    },
    {
      "cell_type": "markdown",
      "source": [
        "After grasshopper simulation put the output .dat file as input"
      ],
      "metadata": {
        "id": "F5FsFx2cFalw"
      }
    },
    {
      "cell_type": "code",
      "source": [
        "import pandas as pd\n",
        "import numpy as np\n",
        "import matplotlib.pyplot as plt\n",
        "\n",
        "def apply_white_theme():\n",
        "    plt.rcParams.update({\n",
        "        'figure.facecolor': 'white', 'axes.facecolor': 'white',\n",
        "        'axes.edgecolor': 'black', 'axes.labelcolor': 'black',\n",
        "        'xtick.color': 'black', 'ytick.color': 'black',\n",
        "        'text.color': 'black', 'axes.titlecolor': 'black',\n",
        "        'grid.color': 'gray', 'grid.alpha': 0.3,\n",
        "    })\n",
        "def apply_dark_blue_theme():\n",
        "    plt.rcParams.update({\n",
        "        'figure.facecolor': '#0d1b2a',\n",
        "        'axes.facecolor': '#0d1b2a',\n",
        "        'axes.edgecolor': 'white',\n",
        "        'axes.labelcolor': 'white',\n",
        "        'xtick.color': 'white',\n",
        "        'ytick.color': 'white',\n",
        "        'text.color': 'white',\n",
        "        'axes.titlecolor': 'white',\n",
        "        'grid.color': 'gray',\n",
        "        'grid.alpha': 0.3,\n",
        "    })\n",
        "\n",
        "df = pd.read_csv(\n",
        "    '/content/out_40_w006_100_10m_10nm',\n",
        "    sep='\\t',\n",
        "    names=[\n",
        "        'E_beam', 'E_incident', 'E_deposited', 'x_incident', 'y_incident',\n",
        "        'z_incident', 'theta', 'Time', 'EventID', 'TrackID', 'ParticleID',\n",
        "        'ParticleName', 'CreatorProcessName', 'IsEdepositedTotalEntry',\n",
        "        'IsSurfaceHitTrack', 'detector#'\n",
        "    ],\n",
        "    skiprows=1\n",
        ")\n",
        "\n",
        "\n",
        "df_cu = df[(df['detector#'] == 0) & (df['E_deposited'] > 0) & (df['E_incident'] > 0) & (df['ParticleName'] == 'proton')]\n",
        "\n",
        "\n",
        "rho_0 = 1.68e-8  # Cu resistivity ohm·m\n",
        "eta = 0.8         # NRT efficiency factor\n",
        "E_d = 18.0        # Displacement threshold 18[eV]\n",
        "alpha = 4.1e-6    # drho/DPA\n",
        "\n",
        "# in meter\n",
        "L = 100e-9\n",
        "W = 10e-6\n",
        "T = 10e-9\n",
        "A = W * T  # cross section\n",
        "V = L * A   #Vol\n",
        "\n",
        "\n",
        "rho_Cu = 8960         #Density kg/m3\n",
        "M_Cu = 0.063546       #Molar mass kg/mol\n",
        "N_atoms = (rho_Cu * V / M_Cu) * 6.022e23  #Atoms in volume\n",
        "print(f\"N_atoms: {N_atoms}\")\n",
        "\n",
        "E_dep_eV = (df_cu['E_deposited']).sum() * 1e6  #MeV to eV\n",
        "print(f\"E_dep_eV: {E_dep_eV}\")\n",
        "DPA = (0.8 * E_dep_eV) / (2 * E_d * N_atoms)  #NRT formula\n",
        "print(f\"DPA: {DPA}\")\n",
        "delta_rho = alpha * DPA  #resistivity change\n",
        "print(f\"delta_rho: {delta_rho}\")\n",
        "\n",
        "\n",
        "R0 = rho_0 * L / A\n",
        "R_new = (rho_0 + delta_rho) * L / A\n",
        "delta_R_pct = ((R_new - R0)/R0) * 100\n",
        "\n",
        "\n",
        "print(f\"NRT Model Results ({L}×{W}×{T} m Cu)\")\n",
        "print(f\"DPA (NRT): {DPA:.3e}\")\n",
        "print(f\"Resistance change: {delta_R_pct}%\")\n",
        "\n",
        "\n",
        "# apply_dark_blue_theme()\n",
        "apply_white_theme()\n",
        "plt.hist(df_cu['E_deposited'], bins=30, color='cyan', edgecolor='white')\n",
        "plt.title('Energy Deposition Distribution')\n",
        "plt.xlabel('Energy (MeV)')\n",
        "plt.ylabel('Counts')\n",
        "plt.show()\n",
        "plt.scatter(df_cu['E_beam'], df_cu['E_deposited'],\n",
        "            color='magenta', alpha=0.7, edgecolor='white')\n",
        "plt.yscale('log')\n",
        "plt.title('Incident vs Deposited Energy')\n",
        "plt.xlabel('Incident Energy (MeV)')\n",
        "plt.ylabel('Deposited Energy (MeV)')\n",
        "plt.show()"
      ],
      "metadata": {
        "colab": {
          "base_uri": "https://localhost:8080/",
          "height": 1000
        },
        "id": "h6Zwpyc-5hL0",
        "outputId": "de703f50-9b66-41a5-946b-3eb2ea6d496e"
      },
      "execution_count": 54,
      "outputs": [
        {
          "output_type": "stream",
          "name": "stdout",
          "text": [
            "N_atoms: 849103326.723948\n",
            "E_dep_eV: 6462767.368254076\n",
            "DPA: 0.00016913966546566094\n",
            "delta_rho: 6.934726284092098e-10\n",
            "NRT Model Results (1e-07×1e-05×1e-08 m Cu)\n",
            "DPA (NRT): 1.691e-04\n",
            "Resistance change: 4.127813264340519%\n"
          ]
        },
        {
          "output_type": "display_data",
          "data": {
            "text/plain": [
              "<Figure size 640x480 with 1 Axes>"
            ],
            "image/png": "[encoded data removed]"
          },
          "metadata": {}
        },
        {
          "output_type": "display_data",
          "data": {
            "text/plain": [
              "<Figure size 640x480 with 1 Axes>"
            ],
            "image/png": "[encoded data removed]"
          },
          "metadata": {}
        }
      ]
    },
    {
      "cell_type": "code",
      "source": [],
      "metadata": {
        "id": "5jQzxSNE5knf"
      },
      "execution_count": null,
      "outputs": []
    }
  ]
}